{
 "cells": [
  {
   "cell_type": "code",
   "execution_count": 1,
   "id": "99a45617-3b34-4832-9ded-126f1683bf58",
   "metadata": {},
   "outputs": [],
   "source": [
    "from ixbrlparse import IXBRL\n",
    "import pandas as pd, requests, io, matplotlib.pyplot as plt"
   ]
  },
  {
   "cell_type": "code",
   "execution_count": 2,
   "id": "a3100c42-a0a5-4be6-bc12-1aa91343dc4c",
   "metadata": {},
   "outputs": [],
   "source": [
    "#!pip install ixbrlparse"
   ]
  },
  {
   "cell_type": "code",
   "execution_count": 3,
   "id": "fc041f1c-b08d-40d1-bbe8-c6d71ba8736c",
   "metadata": {},
   "outputs": [],
   "source": [
    "codes = [2754, 4163]\n",
    "years = [2019, 2020, 2021, 2022]\n",
    "items = ['Revenue', 'GrossProfit', 'ProfitLossFromOperatingActivities', 'ProfitLoss']#, 'Inventories']"
   ]
  },
  {
   "cell_type": "code",
   "execution_count": 4,
   "id": "3cd08f95-59c4-4a08-804d-ac4e94d3abb4",
   "metadata": {},
   "outputs": [],
   "source": [
    "headers = { 'User-Agent': 'Mozilla/5.0 (Windows NT 10.0; Win64; x64) \\\n",
    "             AppleWebKit/537.36 (KHTML, like Gecko) Chrome/95.0.4638.54 Safari/537.36'} "
   ]
  },
  {
   "cell_type": "code",
   "execution_count": 5,
   "id": "99bcd408-da7f-4371-9d3a-91737a685798",
   "metadata": {},
   "outputs": [],
   "source": [
    "data = {'code': [], 'date': []}\n",
    "for item in items:\n",
    "    data[item] = []"
   ]
  },
  {
   "cell_type": "code",
   "execution_count": 28,
   "id": "a296f216-6a86-4263-99b5-49032952666e",
   "metadata": {},
   "outputs": [
    {
     "ename": "TypeError",
     "evalue": "'method' object is not subscriptable",
     "output_type": "error",
     "traceback": [
      "\u001b[1;31m---------------------------------------------------------------------------\u001b[0m",
      "\u001b[1;31mTypeError\u001b[0m                                 Traceback (most recent call last)",
      "Cell \u001b[1;32mIn[28], line 3\u001b[0m\n\u001b[0;32m      1\u001b[0m \u001b[38;5;28;01mfor\u001b[39;00m code \u001b[38;5;129;01min\u001b[39;00m codes:\n\u001b[0;32m      2\u001b[0m     \u001b[38;5;28;01mfor\u001b[39;00m year \u001b[38;5;129;01min\u001b[39;00m years:\n\u001b[1;32m----> 3\u001b[0m         data[\u001b[38;5;124m'\u001b[39m\u001b[38;5;124mcode\u001b[39m\u001b[38;5;124m'\u001b[39m]\u001b[38;5;241m.\u001b[39mappend(code)\n\u001b[0;32m      4\u001b[0m         data[\u001b[38;5;124m'\u001b[39m\u001b[38;5;124mdate\u001b[39m\u001b[38;5;124m'\u001b[39m]\u001b[38;5;241m.\u001b[39mappend(year)\n\u001b[0;32m      5\u001b[0m         url_add \u001b[38;5;241m=\u001b[39m \u001b[38;5;124mf\u001b[39m\u001b[38;5;124m'\u001b[39m\u001b[38;5;124mhttps://mops.twse.com.tw/server-java/t164sb01?step=1&CO_ID=\u001b[39m\u001b[38;5;132;01m{\u001b[39;00m\u001b[38;5;28mstr\u001b[39m(code)\u001b[38;5;132;01m}\u001b[39;00m\u001b[38;5;124m&SYEAR=\u001b[39m\u001b[38;5;132;01m{\u001b[39;00m\u001b[38;5;28mstr\u001b[39m(year)\u001b[38;5;132;01m}\u001b[39;00m\u001b[38;5;124m&SSEASON=4&REPORT_ID=C\u001b[39m\u001b[38;5;124m'\u001b[39m\n",
      "\u001b[1;31mTypeError\u001b[0m: 'method' object is not subscriptable"
     ]
    }
   ],
   "source": [
    "for code in codes:\n",
    "    for year in years:\n",
    "        data['code'].append(code)\n",
    "        data['date'].append(year)\n",
    "        url_add = f'https://mops.twse.com.tw/server-java/t164sb01?step=1&CO_ID={str(code)}&SYEAR={str(year)}&SSEASON=4&REPORT_ID=C'\n",
    "        res = requests.get(url_add, headers = headers)\n",
    "        res.encoding = 'big5'\n",
    "        x = IXBRL(io.StringIO(res.text), raise_on_error=False)\n",
    "        for item in items:\n",
    "            \n",
    "            for i in x.numeric:\n",
    "                # some items may be duplicates using '_' in the context to make sure the correct one\n",
    "                # point of time data have an instant attribute; period data have an enddate attribute\n",
    "                i_year = i.context.instant.year if i.context.enddate is None else i.context.enddate.year\n",
    "                if i.name == item and i_year == year  and str(i.context).find('_') == -1:\n",
    "                                        \n",
    "                    print(code, year, end='\\r')\n",
    "                    data[item].append(i.value/1000000)\n",
    "print('All done!')"
   ]
  },
  {
   "cell_type": "code",
   "execution_count": 7,
   "id": "acf42237-9dbc-4fb4-9b12-73367741520a",
   "metadata": {},
   "outputs": [],
   "source": [
    "data = pd.DataFrame(data)\n",
    "data = data.set_index(['code', 'date'])"
   ]
  },
  {
   "cell_type": "code",
   "execution_count": 8,
   "id": "b5a058a8-1c98-4157-8d58-80ab35ac60fe",
   "metadata": {},
   "outputs": [
    {
     "data": {
      "text/html": [
       "<div>\n",
       "<style scoped>\n",
       "    .dataframe tbody tr th:only-of-type {\n",
       "        vertical-align: middle;\n",
       "    }\n",
       "\n",
       "    .dataframe tbody tr th {\n",
       "        vertical-align: top;\n",
       "    }\n",
       "\n",
       "    .dataframe thead th {\n",
       "        text-align: right;\n",
       "    }\n",
       "</style>\n",
       "<table border=\"1\" class=\"dataframe\">\n",
       "  <thead>\n",
       "    <tr style=\"text-align: right;\">\n",
       "      <th></th>\n",
       "      <th></th>\n",
       "      <th>Revenue</th>\n",
       "      <th>GrossProfit</th>\n",
       "      <th>ProfitLossFromOperatingActivities</th>\n",
       "      <th>ProfitLoss</th>\n",
       "    </tr>\n",
       "    <tr>\n",
       "      <th>code</th>\n",
       "      <th>date</th>\n",
       "      <th></th>\n",
       "      <th></th>\n",
       "      <th></th>\n",
       "      <th></th>\n",
       "    </tr>\n",
       "  </thead>\n",
       "  <tbody>\n",
       "    <tr>\n",
       "      <th rowspan=\"4\" valign=\"top\">2754</th>\n",
       "      <th>2019</th>\n",
       "      <td>1926.252</td>\n",
       "      <td>803.342</td>\n",
       "      <td>116.482</td>\n",
       "      <td>88.716</td>\n",
       "    </tr>\n",
       "    <tr>\n",
       "      <th>2020</th>\n",
       "      <td>2414.639</td>\n",
       "      <td>957.142</td>\n",
       "      <td>50.738</td>\n",
       "      <td>31.570</td>\n",
       "    </tr>\n",
       "    <tr>\n",
       "      <th>2021</th>\n",
       "      <td>2527.098</td>\n",
       "      <td>992.090</td>\n",
       "      <td>32.694</td>\n",
       "      <td>22.349</td>\n",
       "    </tr>\n",
       "    <tr>\n",
       "      <th>2022</th>\n",
       "      <td>3847.885</td>\n",
       "      <td>1608.777</td>\n",
       "      <td>322.479</td>\n",
       "      <td>241.064</td>\n",
       "    </tr>\n",
       "    <tr>\n",
       "      <th rowspan=\"4\" valign=\"top\">4163</th>\n",
       "      <th>2019</th>\n",
       "      <td>2327.239</td>\n",
       "      <td>991.128</td>\n",
       "      <td>447.099</td>\n",
       "      <td>363.754</td>\n",
       "    </tr>\n",
       "    <tr>\n",
       "      <th>2020</th>\n",
       "      <td>1961.112</td>\n",
       "      <td>826.213</td>\n",
       "      <td>331.051</td>\n",
       "      <td>243.487</td>\n",
       "    </tr>\n",
       "    <tr>\n",
       "      <th>2021</th>\n",
       "      <td>1973.345</td>\n",
       "      <td>789.603</td>\n",
       "      <td>221.937</td>\n",
       "      <td>223.356</td>\n",
       "    </tr>\n",
       "    <tr>\n",
       "      <th>2022</th>\n",
       "      <td>2413.462</td>\n",
       "      <td>972.909</td>\n",
       "      <td>383.285</td>\n",
       "      <td>417.665</td>\n",
       "    </tr>\n",
       "  </tbody>\n",
       "</table>\n",
       "</div>"
      ],
      "text/plain": [
       "            Revenue  GrossProfit  ProfitLossFromOperatingActivities  \\\n",
       "code date                                                             \n",
       "2754 2019  1926.252      803.342                            116.482   \n",
       "     2020  2414.639      957.142                             50.738   \n",
       "     2021  2527.098      992.090                             32.694   \n",
       "     2022  3847.885     1608.777                            322.479   \n",
       "4163 2019  2327.239      991.128                            447.099   \n",
       "     2020  1961.112      826.213                            331.051   \n",
       "     2021  1973.345      789.603                            221.937   \n",
       "     2022  2413.462      972.909                            383.285   \n",
       "\n",
       "           ProfitLoss  \n",
       "code date              \n",
       "2754 2019      88.716  \n",
       "     2020      31.570  \n",
       "     2021      22.349  \n",
       "     2022     241.064  \n",
       "4163 2019     363.754  \n",
       "     2020     243.487  \n",
       "     2021     223.356  \n",
       "     2022     417.665  "
      ]
     },
     "execution_count": 8,
     "metadata": {},
     "output_type": "execute_result"
    }
   ],
   "source": [
    "data"
   ]
  },
  {
   "cell_type": "code",
   "execution_count": 9,
   "id": "cde28b56-07dc-424c-b068-5ef298e35fbe",
   "metadata": {},
   "outputs": [],
   "source": [
    "data[['R', 'GP', 'OI', 'NOS']] = data[['Revenue', 'GrossProfit', 'ProfitLossFromOperatingActivities', 'ProfitLoss']].div(data['Revenue'], axis=0)"
   ]
  },
  {
   "cell_type": "code",
   "execution_count": 10,
   "id": "0c2d0b0f-8571-4202-bfe6-1a22d0beb9c5",
   "metadata": {},
   "outputs": [],
   "source": [
    "data['other'] = 1 - data['GP'] - data['OI'] - data['NOS']"
   ]
  },
  {
   "cell_type": "code",
   "execution_count": 11,
   "id": "45b5d043-8e00-4500-b76e-dfcadf59eada",
   "metadata": {},
   "outputs": [
    {
     "data": {
      "text/html": [
       "<div>\n",
       "<style scoped>\n",
       "    .dataframe tbody tr th:only-of-type {\n",
       "        vertical-align: middle;\n",
       "    }\n",
       "\n",
       "    .dataframe tbody tr th {\n",
       "        vertical-align: top;\n",
       "    }\n",
       "\n",
       "    .dataframe thead th {\n",
       "        text-align: right;\n",
       "    }\n",
       "</style>\n",
       "<table border=\"1\" class=\"dataframe\">\n",
       "  <thead>\n",
       "    <tr style=\"text-align: right;\">\n",
       "      <th></th>\n",
       "      <th></th>\n",
       "      <th>Revenue</th>\n",
       "      <th>GrossProfit</th>\n",
       "      <th>ProfitLossFromOperatingActivities</th>\n",
       "      <th>ProfitLoss</th>\n",
       "      <th>R</th>\n",
       "      <th>GP</th>\n",
       "      <th>OI</th>\n",
       "      <th>NOS</th>\n",
       "      <th>other</th>\n",
       "    </tr>\n",
       "    <tr>\n",
       "      <th>code</th>\n",
       "      <th>date</th>\n",
       "      <th></th>\n",
       "      <th></th>\n",
       "      <th></th>\n",
       "      <th></th>\n",
       "      <th></th>\n",
       "      <th></th>\n",
       "      <th></th>\n",
       "      <th></th>\n",
       "      <th></th>\n",
       "    </tr>\n",
       "  </thead>\n",
       "  <tbody>\n",
       "    <tr>\n",
       "      <th rowspan=\"4\" valign=\"top\">2754</th>\n",
       "      <th>2019</th>\n",
       "      <td>1926.252</td>\n",
       "      <td>803.342</td>\n",
       "      <td>116.482</td>\n",
       "      <td>88.716</td>\n",
       "      <td>1.0</td>\n",
       "      <td>0.417049</td>\n",
       "      <td>0.060471</td>\n",
       "      <td>0.046056</td>\n",
       "      <td>0.476424</td>\n",
       "    </tr>\n",
       "    <tr>\n",
       "      <th>2020</th>\n",
       "      <td>2414.639</td>\n",
       "      <td>957.142</td>\n",
       "      <td>50.738</td>\n",
       "      <td>31.570</td>\n",
       "      <td>1.0</td>\n",
       "      <td>0.396391</td>\n",
       "      <td>0.021013</td>\n",
       "      <td>0.013074</td>\n",
       "      <td>0.569522</td>\n",
       "    </tr>\n",
       "    <tr>\n",
       "      <th>2021</th>\n",
       "      <td>2527.098</td>\n",
       "      <td>992.090</td>\n",
       "      <td>32.694</td>\n",
       "      <td>22.349</td>\n",
       "      <td>1.0</td>\n",
       "      <td>0.392581</td>\n",
       "      <td>0.012937</td>\n",
       "      <td>0.008844</td>\n",
       "      <td>0.585638</td>\n",
       "    </tr>\n",
       "    <tr>\n",
       "      <th>2022</th>\n",
       "      <td>3847.885</td>\n",
       "      <td>1608.777</td>\n",
       "      <td>322.479</td>\n",
       "      <td>241.064</td>\n",
       "      <td>1.0</td>\n",
       "      <td>0.418094</td>\n",
       "      <td>0.083807</td>\n",
       "      <td>0.062648</td>\n",
       "      <td>0.435451</td>\n",
       "    </tr>\n",
       "    <tr>\n",
       "      <th rowspan=\"4\" valign=\"top\">4163</th>\n",
       "      <th>2019</th>\n",
       "      <td>2327.239</td>\n",
       "      <td>991.128</td>\n",
       "      <td>447.099</td>\n",
       "      <td>363.754</td>\n",
       "      <td>1.0</td>\n",
       "      <td>0.425881</td>\n",
       "      <td>0.192116</td>\n",
       "      <td>0.156303</td>\n",
       "      <td>0.225700</td>\n",
       "    </tr>\n",
       "    <tr>\n",
       "      <th>2020</th>\n",
       "      <td>1961.112</td>\n",
       "      <td>826.213</td>\n",
       "      <td>331.051</td>\n",
       "      <td>243.487</td>\n",
       "      <td>1.0</td>\n",
       "      <td>0.421298</td>\n",
       "      <td>0.168808</td>\n",
       "      <td>0.124158</td>\n",
       "      <td>0.285736</td>\n",
       "    </tr>\n",
       "    <tr>\n",
       "      <th>2021</th>\n",
       "      <td>1973.345</td>\n",
       "      <td>789.603</td>\n",
       "      <td>221.937</td>\n",
       "      <td>223.356</td>\n",
       "      <td>1.0</td>\n",
       "      <td>0.400134</td>\n",
       "      <td>0.112467</td>\n",
       "      <td>0.113186</td>\n",
       "      <td>0.374212</td>\n",
       "    </tr>\n",
       "    <tr>\n",
       "      <th>2022</th>\n",
       "      <td>2413.462</td>\n",
       "      <td>972.909</td>\n",
       "      <td>383.285</td>\n",
       "      <td>417.665</td>\n",
       "      <td>1.0</td>\n",
       "      <td>0.403118</td>\n",
       "      <td>0.158811</td>\n",
       "      <td>0.173056</td>\n",
       "      <td>0.265015</td>\n",
       "    </tr>\n",
       "  </tbody>\n",
       "</table>\n",
       "</div>"
      ],
      "text/plain": [
       "            Revenue  GrossProfit  ProfitLossFromOperatingActivities  \\\n",
       "code date                                                             \n",
       "2754 2019  1926.252      803.342                            116.482   \n",
       "     2020  2414.639      957.142                             50.738   \n",
       "     2021  2527.098      992.090                             32.694   \n",
       "     2022  3847.885     1608.777                            322.479   \n",
       "4163 2019  2327.239      991.128                            447.099   \n",
       "     2020  1961.112      826.213                            331.051   \n",
       "     2021  1973.345      789.603                            221.937   \n",
       "     2022  2413.462      972.909                            383.285   \n",
       "\n",
       "           ProfitLoss    R        GP        OI       NOS     other  \n",
       "code date                                                           \n",
       "2754 2019      88.716  1.0  0.417049  0.060471  0.046056  0.476424  \n",
       "     2020      31.570  1.0  0.396391  0.021013  0.013074  0.569522  \n",
       "     2021      22.349  1.0  0.392581  0.012937  0.008844  0.585638  \n",
       "     2022     241.064  1.0  0.418094  0.083807  0.062648  0.435451  \n",
       "4163 2019     363.754  1.0  0.425881  0.192116  0.156303  0.225700  \n",
       "     2020     243.487  1.0  0.421298  0.168808  0.124158  0.285736  \n",
       "     2021     223.356  1.0  0.400134  0.112467  0.113186  0.374212  \n",
       "     2022     417.665  1.0  0.403118  0.158811  0.173056  0.265015  "
      ]
     },
     "execution_count": 11,
     "metadata": {},
     "output_type": "execute_result"
    }
   ],
   "source": [
    "data"
   ]
  },
  {
   "cell_type": "code",
   "execution_count": 12,
   "id": "2443a5a9-6311-42c3-b502-70b57c8540ac",
   "metadata": {},
   "outputs": [
    {
     "data": {
      "text/html": [
       "<div>\n",
       "<style scoped>\n",
       "    .dataframe tbody tr th:only-of-type {\n",
       "        vertical-align: middle;\n",
       "    }\n",
       "\n",
       "    .dataframe tbody tr th {\n",
       "        vertical-align: top;\n",
       "    }\n",
       "\n",
       "    .dataframe thead th {\n",
       "        text-align: right;\n",
       "    }\n",
       "</style>\n",
       "<table border=\"1\" class=\"dataframe\">\n",
       "  <thead>\n",
       "    <tr style=\"text-align: right;\">\n",
       "      <th></th>\n",
       "      <th>GP</th>\n",
       "      <th>OI</th>\n",
       "      <th>NOS</th>\n",
       "      <th>other</th>\n",
       "    </tr>\n",
       "    <tr>\n",
       "      <th>date</th>\n",
       "      <th></th>\n",
       "      <th></th>\n",
       "      <th></th>\n",
       "      <th></th>\n",
       "    </tr>\n",
       "  </thead>\n",
       "  <tbody>\n",
       "    <tr>\n",
       "      <th>2019</th>\n",
       "      <td>0.417049</td>\n",
       "      <td>0.060471</td>\n",
       "      <td>0.046056</td>\n",
       "      <td>0.476424</td>\n",
       "    </tr>\n",
       "    <tr>\n",
       "      <th>2020</th>\n",
       "      <td>0.396391</td>\n",
       "      <td>0.021013</td>\n",
       "      <td>0.013074</td>\n",
       "      <td>0.569522</td>\n",
       "    </tr>\n",
       "    <tr>\n",
       "      <th>2021</th>\n",
       "      <td>0.392581</td>\n",
       "      <td>0.012937</td>\n",
       "      <td>0.008844</td>\n",
       "      <td>0.585638</td>\n",
       "    </tr>\n",
       "    <tr>\n",
       "      <th>2022</th>\n",
       "      <td>0.418094</td>\n",
       "      <td>0.083807</td>\n",
       "      <td>0.062648</td>\n",
       "      <td>0.435451</td>\n",
       "    </tr>\n",
       "  </tbody>\n",
       "</table>\n",
       "</div>"
      ],
      "text/plain": [
       "            GP        OI       NOS     other\n",
       "date                                        \n",
       "2019  0.417049  0.060471  0.046056  0.476424\n",
       "2020  0.396391  0.021013  0.013074  0.569522\n",
       "2021  0.392581  0.012937  0.008844  0.585638\n",
       "2022  0.418094  0.083807  0.062648  0.435451"
      ]
     },
     "execution_count": 12,
     "metadata": {},
     "output_type": "execute_result"
    }
   ],
   "source": [
    "data.loc[2754, ['GP', 'OI', 'NOS', 'other']]"
   ]
  },
  {
   "cell_type": "markdown",
   "id": "ca51c5fb-3b5e-4eae-bd6c-2851b8efabcf",
   "metadata": {},
   "source": [
    "https://medium.com/the-researchers-guide/introduction-to-stacked-bar-plot-matplotlib-pandas-and-seaborn-visualization-guide-part-2-2-716960c3006b"
   ]
  },
  {
   "cell_type": "code",
   "execution_count": 13,
   "id": "966594a3-64c9-4bf8-af91-d8f674bfcf86",
   "metadata": {},
   "outputs": [
    {
     "ename": "NameError",
     "evalue": "name 'ax' is not defined",
     "output_type": "error",
     "traceback": [
      "\u001b[1;31m---------------------------------------------------------------------------\u001b[0m",
      "\u001b[1;31mNameError\u001b[0m                                 Traceback (most recent call last)",
      "Cell \u001b[1;32mIn[13], line 2\u001b[0m\n\u001b[0;32m      1\u001b[0m data\u001b[38;5;241m.\u001b[39mloc[\u001b[38;5;241m2754\u001b[39m]\u001b[38;5;241m.\u001b[39mplot\u001b[38;5;241m.\u001b[39mbar(stacked \u001b[38;5;241m=\u001b[39m \u001b[38;5;28;01mTrue\u001b[39;00m,\n\u001b[1;32m----> 2\u001b[0m             ax \u001b[38;5;241m=\u001b[39m ax,\n\u001b[0;32m      3\u001b[0m             width \u001b[38;5;241m=\u001b[39m \u001b[38;5;241m0.3\u001b[39m,\n\u001b[0;32m      4\u001b[0m             edgecolor \u001b[38;5;241m=\u001b[39m \u001b[38;5;124m\"\u001b[39m\u001b[38;5;124mblack\u001b[39m\u001b[38;5;124m\"\u001b[39m)\n",
      "\u001b[1;31mNameError\u001b[0m: name 'ax' is not defined"
     ]
    }
   ],
   "source": [
    "data.loc[2754].plot.bar(stacked = True,\n",
    "            ax = ax,\n",
    "            width = 0.3,\n",
    "            edgecolor = \"black\")"
   ]
  },
  {
   "cell_type": "code",
   "execution_count": 14,
   "id": "b4fcb25b-fd3a-47d9-a628-ea99ed2df3b3",
   "metadata": {},
   "outputs": [
    {
     "data": {
      "text/plain": [
       "<Axes: xlabel='date'>"
      ]
     },
     "execution_count": 14,
     "metadata": {},
     "output_type": "execute_result"
    },
    {
     "data": {
      "image/png": "[encoded data removed]",
      "text/plain": [
       "<Figure size 640x480 with 1 Axes>"
      ]
     },
     "metadata": {},
     "output_type": "display_data"
    }
   ],
   "source": [
    "data.loc[2754, ['GP', 'OI', 'NOS', 'other']].plot.bar(stacked = True,\n",
    "            width = 0.3,\n",
    "            edgecolor = \"black\")"
   ]
  },
  {
   "cell_type": "code",
   "execution_count": 17,
   "id": "cd8b71c4-b4c6-46bd-8bdb-1cb8e66f5bbd",
   "metadata": {},
   "outputs": [
    {
     "data": {
      "text/plain": [
       "<Axes: xlabel='code,date'>"
      ]
     },
     "execution_count": 17,
     "metadata": {},
     "output_type": "execute_result"
    },
    {
     "data": {
      "image/png": "[encoded data removed]",
      "text/plain": [
       "<Figure size 640x480 with 1 Axes>"
      ]
     },
     "metadata": {},
     "output_type": "display_data"
    }
   ],
   "source": [
    "data.loc[slice(None), ['GP', 'OI', 'NOS']].plot.bar(stacked = True,\n",
    "            width = 0.3,\n",
    "            edgecolor = \"black\")"
   ]
  },
  {
   "cell_type": "code",
   "execution_count": 22,
   "id": "9effee4c-d7ee-4948-93ca-49752c1a4d43",
   "metadata": {},
   "outputs": [],
   "source": [
    "data = data.reset_index"
   ]
  },
  {
   "cell_type": "code",
   "execution_count": 27,
   "id": "8963808e-45af-4c7d-89c4-60ce67019ed5",
   "metadata": {},
   "outputs": [
    {
     "data": {
      "text/plain": [
       "<bound method DataFrame.reset_index of             Revenue  GrossProfit  ProfitLossFromOperatingActivities  \\\n",
       "code date                                                             \n",
       "2754 2019  1926.252      803.342                            116.482   \n",
       "     2020  2414.639      957.142                             50.738   \n",
       "     2021  2527.098      992.090                             32.694   \n",
       "     2022  3847.885     1608.777                            322.479   \n",
       "4163 2019  2327.239      991.128                            447.099   \n",
       "     2020  1961.112      826.213                            331.051   \n",
       "     2021  1973.345      789.603                            221.937   \n",
       "     2022  2413.462      972.909                            383.285   \n",
       "\n",
       "           ProfitLoss    R        GP        OI       NOS     other  \n",
       "code date                                                           \n",
       "2754 2019      88.716  1.0  0.417049  0.060471  0.046056  0.476424  \n",
       "     2020      31.570  1.0  0.396391  0.021013  0.013074  0.569522  \n",
       "     2021      22.349  1.0  0.392581  0.012937  0.008844  0.585638  \n",
       "     2022     241.064  1.0  0.418094  0.083807  0.062648  0.435451  \n",
       "4163 2019     363.754  1.0  0.425881  0.192116  0.156303  0.225700  \n",
       "     2020     243.487  1.0  0.421298  0.168808  0.124158  0.285736  \n",
       "     2021     223.356  1.0  0.400134  0.112467  0.113186  0.374212  \n",
       "     2022     417.665  1.0  0.403118  0.158811  0.173056  0.265015  >"
      ]
     },
     "execution_count": 27,
     "metadata": {},
     "output_type": "execute_result"
    }
   ],
   "source": [
    "data"
   ]
  },
  {
   "cell_type": "code",
   "execution_count": null,
   "id": "6769bfd8-ab76-41b8-a70a-8eed3b33c0dc",
   "metadata": {},
   "outputs": [],
   "source": []
  }
 ],
 "metadata": {
  "kernelspec": {
   "display_name": "Python 3 (ipykernel)",
   "language": "python",
   "name": "python3"
  },
  "language_info": {
   "codemirror_mode": {
    "name": "ipython",
    "version": 3
   },
   "file_extension": ".py",
   "mimetype": "text/x-python",
   "name": "python",
   "nbconvert_exporter": "python",
   "pygments_lexer": "ipython3",
   "version": "3.11.0"
  }
 },
 "nbformat": 4,
 "nbformat_minor": 5
}
